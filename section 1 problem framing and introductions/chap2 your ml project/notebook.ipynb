{
 "cells": [
  {
   "attachments": {},
   "cell_type": "markdown",
   "metadata": {},
   "source": [
    "# Chapter 2 : your Machine Learning Project"
   ]
  },
  {
   "attachments": {},
   "cell_type": "markdown",
   "metadata": {},
   "source": [
    "The approach of this book is to iterate through a practical business project – namely, stock market prediction – and, with this use case, explore through the different chapters the different features of MLflow. We will use a structured approach to frame a machine learning problem and project. A sample pipeline will be created and used to iterate and evolve the project in the remainder of the book.\n",
    "\n",
    "Using a structured framework to describe a machine learning problem helps the practitioner to reason more efficiently about the different requirements of the machine learning pipeline. We will present a practical pipeline using the requirements elicited during framing.\n",
    "\n",
    "Specifically, we will cover the following sections in this chapter: \n",
    "\n",
    "* Exploring the machine learning process\n",
    "* Framing the machine learning problem\n",
    "* Introducing the stock market prediction problem\n",
    "* Developing your machine learning baseline pipeline"
   ]
  },
  {
   "attachments": {},
   "cell_type": "markdown",
   "metadata": {},
   "source": [
    "## **Exploring the machine learning process**"
   ]
  },
  {
   "attachments": {},
   "cell_type": "markdown",
   "metadata": {},
   "source": [
    "In this chapter, we will begin by describing the problem that we will solve throughout the book. We aim to focus on machine learning in the context of stock trading. **Machine learning can be defined as the process of training a software artifact** – in this case, **a model to make relevant predictions in a problem**. Predictions are used to drive business decisions, for instance, which stock should be bought or sold or whether a picture contains a cat or not.\n",
    "\n",
    "Having a standard approach to a machine learning project is critical for a successful project. The typical iteration of a machine learning life cycle is depicted\n",
    "\n",
    "![Alt text](typical_iteration.png)\n",
    "\n",
    "Let's examine each stage in detail:\n",
    "\n",
    "* **Ideation**: This phase involves **identifying a business opportunity to use machine learning and formulating the problem**.\n",
    "* **Prototyping**: This involves **verifying the feasibility and suitability of existing datasets to implement the planned idea**.\n",
    "* **Pilot**: This involves **evaluating and iterating over a machine learning algorithm in order to make the decision of whether to progress or not to the subsequent phase**.\n",
    "* **Production deployment**: Upon successful piloting, **we should be able to run the machine learning project in production** and allow it to start receiving production traffic.\n",
    "\n",
    "These high-level phases are definitely not static and are generally iterative, with dynamic movement between the phases to refine and improve\n",
    "\n",
    "There are simple scenarios where a machine learning solution is a good candidate, for instance, in the following cases:\n",
    "\n",
    "* When simple rules and heuristics are not enough to solve the problem at hand.\n",
    "* It's very expensive to solve the problem with the current state-of-the-art solutions.\n",
    "* When the rules and code to solve a problem are very intricate and hard to maintain."
   ]
  },
  {
   "attachments": {},
   "cell_type": "markdown",
   "metadata": {},
   "source": [
    "## **Framing the machine learning problem**"
   ]
  },
  {
   "attachments": {},
   "cell_type": "markdown",
   "metadata": {},
   "source": [
    "**Machine learning problem framing**, as defined in this section, **is a technique and methodology to help specify and contextualize a machine learning problem in such a way that an engineering solution can be implemented**. Without a solid approach to tackling machine learning problems, it can become very hard to extract the real value of the undertaking.\n",
    "\n",
    "We will draw inspiration from the approaches of companies such as Amazon and Google, which have been successfully applying the technique of machine learning problem framing.\n",
    "\n",
    "The machine learning development process is highly based on the scientific method. We undergo different stages of **stating a goal**, **data collection**, **hypothesis testing**, and **conclusion**. It's expected that we will cycle through the different stages of the workflow until **either a good model is identified or it becomes apparent that it's impossible to develop one**.\n",
    "\n",
    "The following subsections depict the framework that we will use in the rest of the book to elicit a machine learning problem-solving framework."
   ]
  },
  {
   "attachments": {},
   "cell_type": "markdown",
   "metadata": {},
   "source": [
    "## **Problem statement**"
   ]
  },
  {
   "attachments": {},
   "cell_type": "markdown",
   "metadata": {},
   "source": [
    "Understanding the problem that we are solving is very important before we attempt anything else. Defining a problem statement for the problem at hand is a clear way to define your problem. The following are reasonable examples of a machine learning problem statement:\n",
    "\n",
    "* Predict whether the stock market for a specific ticker will go up tomorrow.\n",
    "* Predict whether we have a cat in a picture.\n",
    "\n",
    "In this part of the process, we specify the specific type of machine learning problem that we are aiming to solve. The following are common types of problems:\n",
    "\n",
    "* **Classification**: This type of problem requires you to predict a label or class as the output of your model, for example, classifying whether an email text is spam or not spam. It can be a binary classification or a multiclass classification. A good example of a multiclass variant is classifying the digits given the handwriting.\n",
    "* **Regression**: This is if you need, for instance, to have a model predict a numeric value from a training dataset. Good examples are predicting temperature based on atmospheric features and predicting the exact value in dollars of a given stock.\n",
    "* **Clustering**: Consists of discovering natural groupings of data when you don't have labels to train models. It groups similar data points into the same groups using a distance metric. Clustering can be used to identify fraudulent transactions as they won't belong to an existing grouping.\n",
    "* **Generative model**: This is a novel type of machine learning where new data is generated based on the existing data and is statistically similar to the input data. It's widely used in modern language models such as GPT-3 from OpenAI.\n",
    "* **Reinforcement learning**: A type of machine learning where the agent/model interacts with the environment to learn optimal behavior to maximize the reward. One famous application is the AlphaGo agent from Google DeepMind, which was able to outperform the best human player at the board game Go. A very important application is to train an automated trading stock agent using profitability as the reward."
   ]
  },
  {
   "attachments": {},
   "cell_type": "markdown",
   "metadata": {},
   "source": [
    "## **Success and failure definition**"
   ]
  },
  {
   "attachments": {},
   "cell_type": "markdown",
   "metadata": {},
   "source": [
    "Getting the success definition from a business is very important to put your problem in perspective. For instance, for the stock market case, the following can be outlined as a desirable outcome: \"**Using the model of this project, we would like to improve the profitability up to $56\\%$ of our daily trading operations as they are currently profitable in 50% of the daily trades.**\"\n",
    "\n",
    "So, if we have successful trades only $30\\%$ of the time, the model is clearly a failure. It will generally be dependent on business criteria.\n",
    "\n",
    "Having a business metric as a success definition, instead of a technical metric such as accuracy, precision, or recall, helps keep the solution aligned to tangible goals to an organization."
   ]
  },
  {
   "attachments": {},
   "cell_type": "markdown",
   "metadata": {},
   "source": [
    "## **Model input**"
   ]
  },
  {
   "attachments": {},
   "cell_type": "markdown",
   "metadata": {},
   "source": [
    "The model output in the context of machine learning problem framing is dependent on the type of problem that you are solving. For instance, a regression model output will be a specific number (for example, 10.5 as a stock prediction) and a classification will return a label (for example, **true** when a cat is detected) and a probabilistic threshold.\n",
    "\n",
    "Your model output should definitely be related to your outcome definition."
   ]
  },
  {
   "attachments": {},
   "cell_type": "markdown",
   "metadata": {},
   "source": [
    "## **Output usage**"
   ]
  },
  {
   "attachments": {},
   "cell_type": "markdown",
   "metadata": {},
   "source": [
    "Stating how your prediction will be used helps unveil the reasoning for the model development, helping the developers to get context and ownership of the problem, for instance, deciding whether you will use your prediction directly in a UI or use it to feed an upstream system."
   ]
  },
  {
   "attachments": {},
   "cell_type": "markdown",
   "metadata": {},
   "source": [
    "## **Heuristics**"
   ]
  },
  {
   "attachments": {},
   "cell_type": "markdown",
   "metadata": {},
   "source": [
    "Problems solved with machine learning can be approximated by rules and heuristics. Having a heuristic as a starting point for a machine learning pipeline is generally a recommended approach to starting a project.\n",
    "\n",
    "For instance, a valid heuristic for the stock trading prediction problem would be using the last day's prediction as the first baseline production heuristic. The goal of the model developer is then to beat the baseline with a better model."
   ]
  },
  {
   "attachments": {},
   "cell_type": "markdown",
   "metadata": {},
   "source": [
    "## **Data layer definition**"
   ]
  },
  {
   "attachments": {},
   "cell_type": "markdown",
   "metadata": {},
   "source": [
    "Defining precisely the input and output in the context of your model helps clarify and guide the development of your machine learning problem."
   ]
  },
  {
   "attachments": {},
   "cell_type": "markdown",
   "metadata": {},
   "source": [
    "### **Data sources**"
   ]
  },
  {
   "attachments": {},
   "cell_type": "markdown",
   "metadata": {},
   "source": [
    "This section on framing the problem comprises identifying raw data sources and documenting them during the problem framing process. Examples of raw data sources are public or proprietary datasets and their definitions and data dictionaries.\n",
    "\n",
    "It's important to identify whether the data is labeled or not at this stage, and the effort that will be needed to label the data."
   ]
  },
  {
   "attachments": {},
   "cell_type": "markdown",
   "metadata": {},
   "source": [
    "### **Model input/output**"
   ]
  },
  {
   "attachments": {},
   "cell_type": "markdown",
   "metadata": {},
   "source": [
    "Model development involves defining the precise inputs to be used in the model. Given all the data sources available, specifying the model input or feature sets becomes essential in order to execute your pipeline. Alongside your input, the desired target should be defined.Model input/output.\n",
    "\n",
    "The model input/output is better framed as a table in order to facilitate reasoning and model implementation."
   ]
  },
  {
   "attachments": {},
   "cell_type": "markdown",
   "metadata": {},
   "source": [
    "## **Introducing the stock market prediction problem**"
   ]
  },
  {
   "attachments": {},
   "cell_type": "markdown",
   "metadata": {},
   "source": [
    "The scenario that we will cover in the remaining chapters of the book is of the hypothetical company `PsyStock LLC`, which provides a platform for amateur traders, providing APIs and UIs to solve different predictions in the context of stock prediction.\n",
    "\n",
    "As machine learning practitioners and developers, we should be able to build a platform that will allow a team of data scientists to quickly develop, test, and bring into production machine learning projects.\n",
    "\n",
    "We will apply and frame the problems initially so we can build our platform upon the basis of the definitions of the problems. It should be noted that the problem framing will evolve as we learn more about the problem: the initial framing will give us guidance on the problem spaces that we will be tackling.\n",
    "\n",
    "The following are the core projects that we will use as references in the rest of the book for machine learning development in MLflow."
   ]
  },
  {
   "attachments": {},
   "cell_type": "markdown",
   "metadata": {},
   "source": [
    "## **Stock movement predictor**"
   ]
  },
  {
   "attachments": {},
   "cell_type": "markdown",
   "metadata": {},
   "source": [
    "This is the project for the first API that the company PsyStock LLC will provide to its customers. This API will return `true` if a given stock ticker will go up in the stock market and `false` if not."
   ]
  },
  {
   "attachments": {},
   "cell_type": "markdown",
   "metadata": {},
   "source": [
    "### **Problem statement**"
   ]
  },
  {
   "attachments": {},
   "cell_type": "markdown",
   "metadata": {},
   "source": [
    "The problem statement is to ***predict through a machine learning classifier whether the market will go up or not in a single day***."
   ]
  },
  {
   "attachments": {},
   "cell_type": "markdown",
   "metadata": {},
   "source": [
    "### **Success and failure definition**"
   ]
  },
  {
   "attachments": {},
   "cell_type": "markdown",
   "metadata": {},
   "source": [
    "Success, in this case, is defined by the ***percentage of days in a month where the system predicted the correct direction of the market***. Success is basically whether the system is accurate, from a market direction perspective, more than $60\\%$ of the time – basically, the expected value of being better than the random baseline."
   ]
  },
  {
   "attachments": {},
   "cell_type": "markdown",
   "metadata": {},
   "source": [
    "### **Model output**"
   ]
  },
  {
   "attachments": {},
   "cell_type": "markdown",
   "metadata": {},
   "source": [
    "The model output is $1$ for an increase in value of a stock ticker and $0$ for non-increase."
   ]
  },
  {
   "attachments": {},
   "cell_type": "markdown",
   "metadata": {},
   "source": [
    "### **Output usage**"
   ]
  },
  {
   "attachments": {},
   "cell_type": "markdown",
   "metadata": {},
   "source": [
    "The output of the model will be used to provide the Rest API with a `true` or `false` value based on a defined threshold of accuracy on the classification.\n",
    "\n",
    "The expected latency for this problem is under $1,000$ milliseconds."
   ]
  },
  {
   "attachments": {},
   "cell_type": "markdown",
   "metadata": {},
   "source": [
    "### **Heuristics**"
   ]
  },
  {
   "attachments": {},
   "cell_type": "markdown",
   "metadata": {},
   "source": [
    "The simplest heuristic to solve this problem is using a random predictor for each input, with an equal probability of the market going up or down."
   ]
  },
  {
   "attachments": {},
   "cell_type": "markdown",
   "metadata": {},
   "source": [
    "### **Data layer definition**"
   ]
  },
  {
   "attachments": {},
   "cell_type": "markdown",
   "metadata": {},
   "source": [
    "Let's define each part of our data layer."
   ]
  },
  {
   "attachments": {},
   "cell_type": "markdown",
   "metadata": {},
   "source": [
    "#### **Data sources**\n",
    "Historical stock market datasets as provided by the Yahoo Finance public API.\n",
    "#### **Model input/output**\n",
    "Let's look at the input and output, next:\n",
    "\n",
    "* Input: Historical end-of-the-day price of a given ticker for the last $10$ days.\n",
    "* Output: $1$ for increasing and 0 for not increasing in the next period."
   ]
  },
  {
   "attachments": {},
   "cell_type": "markdown",
   "metadata": {},
   "source": [
    "## **Sentiment analysis of market influencers**"
   ]
  },
  {
   "attachments": {},
   "cell_type": "markdown",
   "metadata": {},
   "source": [
    "The sentiment machine learning pipeline will predict whether the sentiment over a stock ticker is positive or negative on social media and provide it as an API to the users of the machine learning platform that we are developing in this book."
   ]
  },
  {
   "attachments": {},
   "cell_type": "markdown",
   "metadata": {},
   "source": [
    "### **Problem statement**"
   ]
  },
  {
   "attachments": {},
   "cell_type": "markdown",
   "metadata": {},
   "source": [
    "To predict whether a given stock ticker has positive sentiment for the current day of relevant market influencers on Twitter selected by PsyStock LLC."
   ]
  },
  {
   "attachments": {},
   "cell_type": "markdown",
   "metadata": {},
   "source": [
    "### **Success and failure definition**"
   ]
  },
  {
   "attachments": {},
   "cell_type": "markdown",
   "metadata": {},
   "source": [
    "Success, in this case, is a bit harder to define, as the fact of a sentiment being positive can't exactly be tracked to a market metric. The definition of success on this particular prediction problem should be a proxy for how many times a user is a repeat user of the API."
   ]
  },
  {
   "attachments": {},
   "cell_type": "markdown",
   "metadata": {},
   "source": [
    "### **Model output**\n",
    "The model output is basically a number matching the polarity of the tweet – positive, negative, or neutral sentiment – of a ticker.\n",
    "\n",
    " ### **Output usage**\n",
    "The output of this system will be used in a Rest API that will be provided on request, with the number of positive, neutral, and negative polarities for a given ticker.\n",
    "\n",
    " ### **Heuristics**\n",
    "A very simple heuristic to implement as a baseline for this problem is to count the number of times that the words up and down are used. Whichever word is more frequent for a ticker, its value will be used for polarity. If the percentage of frequency between the two words is less than 10%, we will assume that the ticker sentiment was neutral.\n",
    "\n",
    " ### **Data layer definition**\n",
    "The most readily available raw data for this problem is social media. Twitter provides an easy-to-consume and search API where we can search by ticker and influencer handle.\n",
    "\n",
    " #### **Data sources**\n",
    "The source data will be acquired through the Twitter API to search for tickers given an updatable list of market influencers.\n",
    "\n",
    "#### **Model input/output**\n",
    "The system that will serve the model will receive a tweet and return the classified sentiment (positive, negative, or neutral):\n",
    "\n",
    "In this section, we just defined the initial problems that we will tackle, end to end, throughout the book. We will be refining the definition of the problem frame and improving it when necessary and updating the problem frame as required.\n",
    "\n",
    "In the next section, we'll look at using the definition of the heuristics during problem framing to create the first base pipeline that we will work on improving."
   ]
  },
  {
   "attachments": {},
   "cell_type": "markdown",
   "metadata": {},
   "source": [
    "## **Developing your machine learning baseline pipeline**"
   ]
  },
  {
   "attachments": {},
   "cell_type": "markdown",
   "metadata": {},
   "source": [
    "For our machine learning platform, **we will start with a very simple, heuristic-based pipeline, in order to get the infrastructure of your end-to-end system working correctly** and an environment where the machine learning models can iterate on it."
   ]
  },
  {
   "attachments": {},
   "cell_type": "markdown",
   "metadata": {},
   "source": [
    "By the end of this section, you will be able to create our baseline pipeline. **The baseline pipeline value is to enable rapid iteration to the model developers**. So, basically, **an end-to-end infrastructure with placeholders for training and model serving will be made available to the development team**. Since it's all implemented in MLflow, it becomes easy to have specialization and focus of the different types of teams involved in a machine learning project. **The engineering teams will focus on improving the pipeline while the data science-oriented teams will have a way to rapidly test and evaluate their models**:"
   ]
  },
  {
   "attachments": {},
   "cell_type": "markdown",
   "metadata": {},
   "source": [
    "1. Implement the heuristic model in MLflow.\n",
    "In the following block of code, we create the RandomPredictor class, a bespoke predictor that descends from the mlflow.pyfunc.PythonModel class. The main predict method returns a random number between $0$ and $1$:\n",
    "\n",
    "```python\n",
    "import mlflow\n",
    "\n",
    "class RandomPredictor(mlflow.pyfunc.PythonModel):\n",
    "    def __init__(self):\n",
    "        pass\n",
    "\n",
    "    def predict(self, context, model_input):\n",
    "        return model_input.apply(lambda column: random.randint(0, 1))\n",
    "```\n",
    "\n",
    "We use a specific functionality of creating a custom model in MLflow; more details about custom models can be found [here](https://mlflow.org/docs/latest/python_api/mlflow.pyfunc.html#pyfunc-create-custom).\n",
    "\n",
    "2. Save the model in MLflow\n",
    "\n",
    "The following block of code saves the model with the name `random_model` in a way that can be retrieved later on. It registers within the MLflow registry in the local filesystem:\n",
    "```python\n",
    "model_path = \"random_model\"\n",
    "baseline_model = RandomPredictor()\n",
    "mlflow.pyfunc.save_model(path=model_path, python_model=random_model)\n",
    "```\n",
    "At this stage, we basically instantiate the model and store it on the model registry as configured by the local environment.\n",
    "\n",
    "3. Run your mlflow job:\n",
    "```bash\n",
    "mlflow run .\n",
    "```\n",
    "\n",
    "4. Start the serving API:\n",
    "```bash\n",
    "mlflow models serve -m ./mlruns/0/b9ee36e80a934cef9cac3a0513db515c/artifacts/random_model/\n",
    "```\n",
    "5. Test the API of your model.\n",
    "You have access to a very simple **Flask server** that can run your model. You can test the execution by running a curl command in your server:\n",
    "```bash\n",
    "curl http://127.0.0.1:5000/invocations -H 'Content-Type: application/json' -d '{\"data\":[[1,1,1,1,0,1,1,1,0,1,1,1,0,0]]}' [1]%\n",
    "```\n",
    "At this stage, we have **a baseline dummy model that the goal of the model developers team is now to improve upon**. This same pipeline will be used in the next chapter to build **a data science development environment with the initial algorithms** of the platform being built in this book."
   ]
  },
  {
   "cell_type": "markdown",
   "metadata": {},
   "source": []
  }
 ],
 "metadata": {
  "language_info": {
   "name": "python"
  },
  "orig_nbformat": 4
 },
 "nbformat": 4,
 "nbformat_minor": 2
}
